{
  "cells": [
    {
      "cell_type": "markdown",
      "metadata": {},
      "source": [
        "# Reddit ETL Pipeline - Database Query Notebook\n",
        "\n",
        "This notebook allows you to query the PostgreSQL database used by the Reddit ETL pipeline.\n",
        "\n",
        "## Database Connection Details\n",
        "- **Configuration**: Loaded from `../config/config.conf`\n",
        "- **Security**: No hardcoded credentials in the notebook\n",
        "- **Environment**: Uses the same config as the ETL pipeline\n"
      ]
    },
    {
      "cell_type": "code",
      "execution_count": null,
      "metadata": {},
      "outputs": [],
      "source": [
        "# Import required libraries\n",
        "import pandas as pd\n",
        "import psycopg2\n",
        "from sqlalchemy import create_engine\n",
        "import configparser\n",
        "import os\n",
        "import sys\n",
        "import warnings\n",
        "warnings.filterwarnings('ignore')\n",
        "\n",
        "# Add parent directory to path to access config\n",
        "sys.path.append('..')\n",
        "\n",
        "print(\"Libraries imported successfully!\")\n"
      ]
    },
    {
      "cell_type": "code",
      "execution_count": null,
      "metadata": {},
      "outputs": [],
      "source": [
        "# Load database configuration using the project's config loader\n",
        "from utils.config_loader import load_config\n",
        "\n",
        "# Load configuration\n",
        "try:\n",
        "    config = load_config('../config/config.conf')\n",
        "    DB_CONFIG = config.get_database_config()\n",
        "    connection_string = config.get_connection_string()\n",
        "    \n",
        "    print(\"✅ Database configuration loaded from config file!\")\n",
        "    print(f\"📊 Connected to: {DB_CONFIG['host']}:{DB_CONFIG['port']}/{DB_CONFIG['database']}\")\n",
        "    print(\"🔒 Using secure configuration loading (no hardcoded credentials)\")\n",
        "    \n",
        "except Exception as e:\n",
        "    print(f\"❌ Error loading database configuration: {e}\")\n",
        "    print(\"Make sure you're running this notebook from the notebooks/ directory\")\n",
        "    print(\"and that ../config/config.conf exists\")\n",
        "    print(\"Also ensure the utils/config_loader.py file is available\")\n"
      ]
    },
    {
      "cell_type": "code",
      "execution_count": null,
      "metadata": {},
      "outputs": [],
      "source": [
        "# Test database connection\n",
        "try:\n",
        "    # Test with psycopg2\n",
        "    conn = psycopg2.connect(**DB_CONFIG)\n",
        "    print(\"✅ Database connection successful!\")\n",
        "    \n",
        "    # Get database info\n",
        "    cursor = conn.cursor()\n",
        "    cursor.execute(\"SELECT version();\")\n",
        "    db_version = cursor.fetchone()[0]\n",
        "    print(f\"📊 Database Version: {db_version}\")\n",
        "    \n",
        "    cursor.close()\n",
        "    conn.close()\n",
        "    \n",
        "except Exception as e:\n",
        "    print(f\"❌ Database connection failed: {e}\")\n"
      ]
    },
    {
      "cell_type": "code",
      "execution_count": null,
      "metadata": {},
      "outputs": [],
      "source": [
        "# Create SQLAlchemy engine for pandas integration\n",
        "try:\n",
        "    engine = create_engine(connection_string)\n",
        "    print(\"✅ SQLAlchemy engine created successfully!\")\n",
        "except Exception as e:\n",
        "    print(f\"❌ SQLAlchemy engine creation failed: {e}\")\n"
      ]
    },
    {
      "cell_type": "markdown",
      "metadata": {},
      "source": [
        "## Configuration Overview\n",
        "\n",
        "The notebook uses the same configuration file as the ETL pipeline. Here's what's available:\n"
      ]
    },
    {
      "cell_type": "code",
      "execution_count": null,
      "metadata": {},
      "outputs": [],
      "source": [
        "# Display available configuration sections\n",
        "try:\n",
        "    print(\"🔧 Available Configuration Sections:\")\n",
        "    print(\"=\" * 50)\n",
        "    \n",
        "    # Database config\n",
        "    db_config = config.get_database_config()\n",
        "    print(f\"📊 Database: {db_config['host']}:{db_config['port']}/{db_config['database']}\")\n",
        "    \n",
        "    # AWS config\n",
        "    aws_config = config.get_aws_config()\n",
        "    print(f\"☁️  AWS Region: {aws_config['region']}\")\n",
        "    print(f\"🪣 S3 Bucket: {aws_config['bucket_name']}\")\n",
        "    \n",
        "    # Reddit config\n",
        "    reddit_config = config.get_reddit_config()\n",
        "    print(f\"🔗 Reddit Client ID: {reddit_config['client_id'][:8]}...\")\n",
        "    \n",
        "    # File paths\n",
        "    file_paths = config.get_file_paths()\n",
        "    print(f\"📁 Output Path: {file_paths['output_path']}\")\n",
        "    \n",
        "    # ETL settings\n",
        "    etl_settings = config.get_etl_settings()\n",
        "    print(f\"⚙️  Batch Size: {etl_settings['batch_size']}\")\n",
        "    print(f\"📝 Log Level: {etl_settings['log_level']}\")\n",
        "    \n",
        "    print(\"\\n✅ All configuration loaded successfully!\")\n",
        "    \n",
        "except Exception as e:\n",
        "    print(f\"❌ Error displaying configuration: {e}\")\n"
      ]
    },
    {
      "cell_type": "markdown",
      "metadata": {},
      "source": [
        "## Database Schema Exploration\n",
        "\n",
        "Let's explore what tables exist in the database.\n"
      ]
    },
    {
      "cell_type": "code",
      "execution_count": null,
      "metadata": {},
      "outputs": [],
      "source": [
        "# List all tables in the database\n",
        "query_tables = \"\"\"\n",
        "SELECT table_name \n",
        "FROM information_schema.tables \n",
        "WHERE table_schema = 'public'\n",
        "ORDER BY table_name;\n",
        "\"\"\"\n",
        "\n",
        "try:\n",
        "    tables_df = pd.read_sql(query_tables, engine)\n",
        "    print(\"📋 Available Tables:\")\n",
        "    print(tables_df)\n",
        "    \n",
        "    if len(tables_df) == 0:\n",
        "        print(\"\\n⚠️  No tables found in the public schema.\")\n",
        "        print(\"This might mean the ETL pipeline hasn't run yet or data hasn't been loaded.\")\n",
        "    \n",
        "except Exception as e:\n",
        "    print(f\"❌ Error listing tables: {e}\")\n"
      ]
    },
    {
      "cell_type": "markdown",
      "metadata": {},
      "source": [
        "## Sample Queries\n",
        "\n",
        "Here are some sample queries you can run. Modify them as needed for your analysis.\n"
      ]
    },
    {
      "cell_type": "code",
      "execution_count": null,
      "metadata": {},
      "outputs": [],
      "source": [
        "# Query 1: Check if reddit_posts table exists and get sample data\n",
        "query_reddit_posts = \"\"\"\n",
        "SELECT * \n",
        "FROM reddit_posts \n",
        "LIMIT 5;\n",
        "\"\"\"\n",
        "\n",
        "try:\n",
        "    reddit_posts_df = pd.read_sql(query_reddit_posts, engine)\n",
        "    print(\"📊 Reddit Posts Sample Data:\")\n",
        "    print(reddit_posts_df)\n",
        "    print(f\"\\n📈 Total rows: {len(reddit_posts_df)}\")\n",
        "except Exception as e:\n",
        "    print(f\"❌ Error querying reddit_posts: {e}\")\n",
        "    print(\"This table might not exist yet. Run the ETL pipeline first.\")\n"
      ]
    },
    {
      "cell_type": "code",
      "execution_count": null,
      "metadata": {},
      "outputs": [],
      "source": [
        "# Query 2: Check sentiment analysis results\n",
        "query_sentiment = \"\"\"\n",
        "SELECT * \n",
        "FROM sentiment_analysis \n",
        "LIMIT 5;\n",
        "\"\"\"\n",
        "\n",
        "try:\n",
        "    sentiment_df = pd.read_sql(query_sentiment, engine)\n",
        "    print(\"📊 Sentiment Analysis Sample Data:\")\n",
        "    print(sentiment_df)\n",
        "    print(f\"\\n📈 Total rows: {len(sentiment_df)}\")\n",
        "except Exception as e:\n",
        "    print(f\"❌ Error querying sentiment_analysis: {e}\")\n",
        "    print(\"This table might not exist yet. Run the ETL pipeline first.\")\n"
      ]
    },
    {
      "cell_type": "markdown",
      "metadata": {},
      "source": [
        "## Custom Queries\n",
        "\n",
        "Use the cell below to run your own custom queries.\n"
      ]
    },
    {
      "cell_type": "code",
      "execution_count": null,
      "metadata": {},
      "outputs": [],
      "source": [
        "# Custom Query - Modify this query as needed\n",
        "custom_query = \"\"\"\n",
        "-- Example: Get all tables and their row counts\n",
        "SELECT \n",
        "    schemaname,\n",
        "    tablename,\n",
        "    n_tup_ins as inserts,\n",
        "    n_tup_upd as updates,\n",
        "    n_tup_del as deletes\n",
        "FROM pg_stat_user_tables\n",
        "ORDER BY tablename;\n",
        "\"\"\"\n",
        "\n",
        "try:\n",
        "    custom_df = pd.read_sql(custom_query, engine)\n",
        "    print(\"📊 Custom Query Results:\")\n",
        "    print(custom_df)\n",
        "except Exception as e:\n",
        "    print(f\"❌ Error running custom query: {e}\")\n"
      ]
    }
  ],
  "metadata": {
    "language_info": {
      "name": "python"
    }
  },
  "nbformat": 4,
  "nbformat_minor": 2
}
