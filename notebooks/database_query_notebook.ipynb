{
  "cells": [
    {
      "cell_type": "markdown",
      "metadata": {},
      "source": [
        "# Reddit ETL Pipeline - Database Query Notebook\n",
        "\n",
        "This notebook allows you to query the PostgreSQL database used by the Reddit ETL pipeline.\n",
        "\n",
        "## Database Connection Details\n",
        "- **Configuration**: Loaded from `../config/config.conf`\n",
        "- **Security**: No hardcoded credentials in the notebook\n",
        "- **Environment**: Uses the same config as the ETL pipeline\n"
      ]
    },
    {
      "cell_type": "code",
      "execution_count": null,
      "metadata": {},
      "outputs": [
        {
          "ename": "ModuleNotFoundError",
          "evalue": "No module named 'psycopg2'",
          "output_type": "error",
          "traceback": [
            "\u001b[31m---------------------------------------------------------------------------\u001b[39m",
            "\u001b[31mModuleNotFoundError\u001b[39m                       Traceback (most recent call last)",
            "\u001b[36mCell\u001b[39m\u001b[36m \u001b[39m\u001b[32mIn[1]\u001b[39m\u001b[32m, line 3\u001b[39m\n\u001b[32m      1\u001b[39m \u001b[38;5;66;03m# Import required libraries\u001b[39;00m\n\u001b[32m      2\u001b[39m \u001b[38;5;28;01mimport\u001b[39;00m \u001b[34;01mpandas\u001b[39;00m \u001b[38;5;28;01mas\u001b[39;00m \u001b[34;01mpd\u001b[39;00m\n\u001b[32m----> \u001b[39m\u001b[32m3\u001b[39m \u001b[38;5;28;01mimport\u001b[39;00m \u001b[34;01mpsycopg2\u001b[39;00m\n\u001b[32m      4\u001b[39m \u001b[38;5;28;01mfrom\u001b[39;00m \u001b[34;01msqlalchemy\u001b[39;00m \u001b[38;5;28;01mimport\u001b[39;00m create_engine\n\u001b[32m      5\u001b[39m \u001b[38;5;28;01mimport\u001b[39;00m \u001b[34;01mconfigparser\u001b[39;00m\n",
            "\u001b[31mModuleNotFoundError\u001b[39m: No module named 'psycopg2'"
          ]
        }
      ],
      "source": [
        "# Import required libraries\n",
        "import pandas as pd\n",
        "import psycopg2\n",
        "from sqlalchemy import create_engine\n",
        "import configparser\n",
        "import os\n",
        "import sys\n",
        "import warnings\n",
        "warnings.filterwarnings('ignore')\n",
        "\n",
        "# Add parent directory to path to access config and utils\n",
        "current_dir = os.getcwd()\n",
        "parent_dir = os.path.dirname(current_dir)\n",
        "if parent_dir not in sys.path:\n",
        "    sys.path.insert(0, parent_dir)\n",
        "\n",
        "print(\"Libraries imported successfully!\")\n",
        "print(f\"Current directory: {current_dir}\")\n",
        "print(f\"Parent directory added to path: {parent_dir}\")\n"
      ]
    },
    {
      "cell_type": "code",
      "execution_count": null,
      "metadata": {},
      "outputs": [],
      "source": [
        "# Load database configuration using the project's config loader\n",
        "def load_database_config():\n",
        "    \"\"\"Load database configuration with fallback methods\"\"\"\n",
        "    \n",
        "    # Method 1: Try using the config loader utility\n",
        "    try:\n",
        "        from utils.config_loader import load_config\n",
        "        config = load_config('../config/config.conf')\n",
        "        db_config = config.get_database_config()\n",
        "        connection_string = config.get_connection_string()\n",
        "        print(\"✅ Database configuration loaded using config loader utility!\")\n",
        "        return db_config, connection_string\n",
        "    except Exception as e:\n",
        "        print(f\"⚠️  Config loader failed: {e}\")\n",
        "    \n",
        "    # Method 2: Fallback to direct config file reading\n",
        "    try:\n",
        "        config = configparser.ConfigParser()\n",
        "        config_path = '../config/config.conf'\n",
        "        \n",
        "        if not os.path.exists(config_path):\n",
        "            raise FileNotFoundError(f\"Config file not found at {config_path}\")\n",
        "        \n",
        "        config.read(config_path)\n",
        "        \n",
        "        db_config = {\n",
        "            'host': config.get('database', 'database_host'),\n",
        "            'database': config.get('database', 'database_name'),\n",
        "            'user': config.get('database', 'database_username'),\n",
        "            'password': config.get('database', 'database_password'),\n",
        "            'port': config.getint('database', 'database_port')\n",
        "        }\n",
        "        \n",
        "        connection_string = f\"postgresql://{db_config['user']}:{db_config['password']}@{db_config['host']}:{db_config['port']}/{db_config['database']}\"\n",
        "        \n",
        "        print(\"✅ Database configuration loaded using direct config file reading!\")\n",
        "        return db_config, connection_string\n",
        "        \n",
        "    except Exception as e:\n",
        "        print(f\"❌ All configuration loading methods failed: {e}\")\n",
        "        raise\n",
        "\n",
        "# Load configuration\n",
        "try:\n",
        "    DB_CONFIG, connection_string = load_database_config()\n",
        "    print(f\"📊 Connected to: {DB_CONFIG['host']}:{DB_CONFIG['port']}/{DB_CONFIG['database']}\")\n",
        "    print(\"🔒 Using secure configuration loading (no hardcoded credentials)\")\n",
        "    \n",
        "except Exception as e:\n",
        "    print(f\"❌ Error loading database configuration: {e}\")\n",
        "    print(\"Make sure you're running this notebook from the notebooks/ directory\")\n",
        "    print(\"and that ../config/config.conf exists\")\n"
      ]
    },
    {
      "cell_type": "code",
      "execution_count": null,
      "metadata": {},
      "outputs": [],
      "source": [
        "# Test database connection\n",
        "try:\n",
        "    # Test with psycopg2\n",
        "    conn = psycopg2.connect(**DB_CONFIG)\n",
        "    print(\"✅ Database connection successful!\")\n",
        "    \n",
        "    # Get database info\n",
        "    cursor = conn.cursor()\n",
        "    cursor.execute(\"SELECT version();\")\n",
        "    db_version = cursor.fetchone()[0]\n",
        "    print(f\"📊 Database Version: {db_version}\")\n",
        "    \n",
        "    cursor.close()\n",
        "    conn.close()\n",
        "    \n",
        "except Exception as e:\n",
        "    print(f\"❌ Database connection failed: {e}\")\n"
      ]
    },
    {
      "cell_type": "code",
      "execution_count": null,
      "metadata": {},
      "outputs": [],
      "source": [
        "# Create SQLAlchemy engine for pandas integration\n",
        "try:\n",
        "    engine = create_engine(connection_string)\n",
        "    print(\"✅ SQLAlchemy engine created successfully!\")\n",
        "except Exception as e:\n",
        "    print(f\"❌ SQLAlchemy engine creation failed: {e}\")\n"
      ]
    },
    {
      "cell_type": "markdown",
      "metadata": {},
      "source": [
        "## Configuration Overview\n",
        "\n",
        "The notebook uses the same configuration file as the ETL pipeline. Here's what's available:\n"
      ]
    },
    {
      "cell_type": "code",
      "execution_count": null,
      "metadata": {},
      "outputs": [],
      "source": [
        "# Display available configuration sections\n",
        "def display_config_overview():\n",
        "    \"\"\"Display configuration overview with fallback methods\"\"\"\n",
        "    \n",
        "    # Method 1: Try using the config loader utility\n",
        "    try:\n",
        "        from utils.config_loader import load_config\n",
        "        config = load_config('../config/config.conf')\n",
        "        \n",
        "        print(\"🔧 Available Configuration Sections (using config loader):\")\n",
        "        print(\"=\" * 60)\n",
        "        \n",
        "        # Database config\n",
        "        db_config = config.get_database_config()\n",
        "        print(f\"📊 Database: {db_config['host']}:{db_config['port']}/{db_config['database']}\")\n",
        "        \n",
        "        # AWS config\n",
        "        aws_config = config.get_aws_config()\n",
        "        print(f\"☁️  AWS Region: {aws_config['region']}\")\n",
        "        print(f\"🪣 S3 Bucket: {aws_config['bucket_name']}\")\n",
        "        \n",
        "        # Reddit config\n",
        "        reddit_config = config.get_reddit_config()\n",
        "        print(f\"🔗 Reddit Client ID: {reddit_config['client_id'][:8]}...\")\n",
        "        \n",
        "        # File paths\n",
        "        file_paths = config.get_file_paths()\n",
        "        print(f\"📁 Output Path: {file_paths['output_path']}\")\n",
        "        \n",
        "        # ETL settings\n",
        "        etl_settings = config.get_etl_settings()\n",
        "        print(f\"⚙️  Batch Size: {etl_settings['batch_size']}\")\n",
        "        print(f\"📝 Log Level: {etl_settings['log_level']}\")\n",
        "        \n",
        "        print(\"\\n✅ All configuration loaded successfully!\")\n",
        "        return\n",
        "        \n",
        "    except Exception as e:\n",
        "        print(f\"⚠️  Config loader failed: {e}\")\n",
        "    \n",
        "    # Method 2: Fallback to basic database config display\n",
        "    try:\n",
        "        print(\"🔧 Basic Configuration Overview (fallback method):\")\n",
        "        print(\"=\" * 50)\n",
        "        print(f\"📊 Database: {DB_CONFIG['host']}:{DB_CONFIG['port']}/{DB_CONFIG['database']}\")\n",
        "        print(\"ℹ️  For full configuration details, ensure utils/config_loader.py is accessible\")\n",
        "        print(\"\\n✅ Basic configuration loaded successfully!\")\n",
        "        \n",
        "    except Exception as e:\n",
        "        print(f\"❌ Error displaying configuration: {e}\")\n",
        "\n",
        "# Display configuration overview\n",
        "display_config_overview()\n"
      ]
    },
    {
      "cell_type": "markdown",
      "metadata": {},
      "source": [
        "## Database Schema Exploration\n",
        "\n",
        "Let's explore what tables exist in the database.\n"
      ]
    },
    {
      "cell_type": "code",
      "execution_count": null,
      "metadata": {},
      "outputs": [],
      "source": [
        "# List all tables in the database\n",
        "query_tables = \"\"\"\n",
        "SELECT table_name \n",
        "FROM information_schema.tables \n",
        "WHERE table_schema = 'public'\n",
        "ORDER BY table_name;\n",
        "\"\"\"\n",
        "\n",
        "try:\n",
        "    tables_df = pd.read_sql(query_tables, engine)\n",
        "    print(\"📋 Available Tables:\")\n",
        "    print(tables_df)\n",
        "    \n",
        "    if len(tables_df) == 0:\n",
        "        print(\"\\n⚠️  No tables found in the public schema.\")\n",
        "        print(\"This might mean the ETL pipeline hasn't run yet or data hasn't been loaded.\")\n",
        "    \n",
        "except Exception as e:\n",
        "    print(f\"❌ Error listing tables: {e}\")\n"
      ]
    },
    {
      "cell_type": "markdown",
      "metadata": {},
      "source": [
        "## Sample Queries\n",
        "\n",
        "Here are some sample queries you can run. Modify them as needed for your analysis.\n"
      ]
    },
    {
      "cell_type": "code",
      "execution_count": null,
      "metadata": {},
      "outputs": [],
      "source": [
        "# Query 1: Check if reddit_posts table exists and get sample data\n",
        "query_reddit_posts = \"\"\"\n",
        "SELECT * \n",
        "FROM reddit_posts \n",
        "LIMIT 5;\n",
        "\"\"\"\n",
        "\n",
        "try:\n",
        "    reddit_posts_df = pd.read_sql(query_reddit_posts, engine)\n",
        "    print(\"📊 Reddit Posts Sample Data:\")\n",
        "    print(reddit_posts_df)\n",
        "    print(f\"\\n📈 Total rows: {len(reddit_posts_df)}\")\n",
        "except Exception as e:\n",
        "    print(f\"❌ Error querying reddit_posts: {e}\")\n",
        "    print(\"This table might not exist yet. Run the ETL pipeline first.\")\n"
      ]
    },
    {
      "cell_type": "code",
      "execution_count": null,
      "metadata": {},
      "outputs": [],
      "source": [
        "# Query 2: Check sentiment analysis results\n",
        "query_sentiment = \"\"\"\n",
        "SELECT * \n",
        "FROM sentiment_analysis \n",
        "LIMIT 5;\n",
        "\"\"\"\n",
        "\n",
        "try:\n",
        "    sentiment_df = pd.read_sql(query_sentiment, engine)\n",
        "    print(\"📊 Sentiment Analysis Sample Data:\")\n",
        "    print(sentiment_df)\n",
        "    print(f\"\\n📈 Total rows: {len(sentiment_df)}\")\n",
        "except Exception as e:\n",
        "    print(f\"❌ Error querying sentiment_analysis: {e}\")\n",
        "    print(\"This table might not exist yet. Run the ETL pipeline first.\")\n"
      ]
    },
    {
      "cell_type": "markdown",
      "metadata": {},
      "source": [
        "## Custom Queries\n",
        "\n",
        "Use the cell below to run your own custom queries.\n"
      ]
    },
    {
      "cell_type": "code",
      "execution_count": null,
      "metadata": {},
      "outputs": [],
      "source": [
        "# Custom Query - Modify this query as needed\n",
        "custom_query = \"\"\"\n",
        "-- Example: Get all tables and their row counts\n",
        "SELECT \n",
        "    schemaname,\n",
        "    tablename,\n",
        "    n_tup_ins as inserts,\n",
        "    n_tup_upd as updates,\n",
        "    n_tup_del as deletes\n",
        "FROM pg_stat_user_tables\n",
        "ORDER BY tablename;\n",
        "\"\"\"\n",
        "\n",
        "try:\n",
        "    custom_df = pd.read_sql(custom_query, engine)\n",
        "    print(\"📊 Custom Query Results:\")\n",
        "    print(custom_df)\n",
        "except Exception as e:\n",
        "    print(f\"❌ Error running custom query: {e}\")\n"
      ]
    }
  ],
  "metadata": {
    "kernelspec": {
      "display_name": "venv",
      "language": "python",
      "name": "python3"
    },
    "language_info": {
      "codemirror_mode": {
        "name": "ipython",
        "version": 3
      },
      "file_extension": ".py",
      "mimetype": "text/x-python",
      "name": "python",
      "nbconvert_exporter": "python",
      "pygments_lexer": "ipython3",
      "version": "3.11.9"
    }
  },
  "nbformat": 4,
  "nbformat_minor": 2
}
